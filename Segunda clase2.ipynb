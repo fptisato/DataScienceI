{
 "cells": [
  {
   "cell_type": "code",
   "execution_count": 25,
   "metadata": {},
   "outputs": [],
   "source": [
    "# Estamos explorando datos simples\n",
    "dato_num = 8 \n",
    "dato_float = 10.22\n",
    "dato_booleano_1 = True \n",
    "dato_booleano_2 = False\n",
    "dato_string = 'Soy Fran'"
   ]
  },
  {
   "cell_type": "code",
   "execution_count": 26,
   "metadata": {},
   "outputs": [
    {
     "name": "stdout",
     "output_type": "stream",
     "text": [
      "8\n",
      "<class 'int'>\n"
     ]
    }
   ],
   "source": [
    "print (dato_num)\n",
    "print (type(dato_num))"
   ]
  },
  {
   "cell_type": "code",
   "execution_count": 27,
   "metadata": {},
   "outputs": [
    {
     "name": "stdout",
     "output_type": "stream",
     "text": [
      "10.22\n",
      "<class 'float'>\n"
     ]
    }
   ],
   "source": [
    "print (dato_float)\n",
    "print (type(dato_float))"
   ]
  },
  {
   "cell_type": "code",
   "execution_count": 28,
   "metadata": {},
   "outputs": [
    {
     "name": "stdout",
     "output_type": "stream",
     "text": [
      "Los datos son:\n",
      "True False\n",
      "\n",
      "Los tipos de datos son:\n",
      "<class 'bool'> <class 'bool'>\n"
     ]
    }
   ],
   "source": [
    "print('Los datos son:')\n",
    "print (dato_booleano_1, dato_booleano_2)\n",
    "print('')\n",
    "print ('Los tipos de datos son:')\n",
    "print(type(dato_booleano_1), type(dato_booleano_2))"
   ]
  },
  {
   "cell_type": "code",
   "execution_count": 29,
   "metadata": {},
   "outputs": [
    {
     "name": "stdout",
     "output_type": "stream",
     "text": [
      "Los datos son:\n",
      "Soy Fran\n",
      "\n",
      "Los tipos de datos son:\n",
      "<class 'str'>\n"
     ]
    }
   ],
   "source": [
    "print('Los datos son:')\n",
    "print (dato_string)\n",
    "print('')\n",
    "print ('Los tipos de datos son:')\n",
    "print(type(dato_string))"
   ]
  },
  {
   "cell_type": "code",
   "execution_count": 30,
   "metadata": {},
   "outputs": [],
   "source": [
    "# Vamos a explorar datos estructurados\n",
    "# Diccionario\n",
    "persona = {'nombre': 'Franco','edad': 31, 'profesion': 'Licenciado'}"
   ]
  },
  {
   "cell_type": "code",
   "execution_count": 31,
   "metadata": {},
   "outputs": [
    {
     "name": "stdout",
     "output_type": "stream",
     "text": [
      "Franco\n"
     ]
    }
   ],
   "source": [
    "print(persona['nombre'])"
   ]
  },
  {
   "cell_type": "code",
   "execution_count": 32,
   "metadata": {},
   "outputs": [],
   "source": [
    "persona['nombre'] = 'Fran'"
   ]
  },
  {
   "cell_type": "code",
   "execution_count": 33,
   "metadata": {},
   "outputs": [
    {
     "name": "stdout",
     "output_type": "stream",
     "text": [
      "Fran\n"
     ]
    }
   ],
   "source": [
    "print(persona['nombre'])"
   ]
  },
  {
   "cell_type": "code",
   "execution_count": 34,
   "metadata": {},
   "outputs": [
    {
     "name": "stdout",
     "output_type": "stream",
     "text": [
      "[1, 2, 3, 'cuatro', 5.05, 'hola']\n"
     ]
    }
   ],
   "source": [
    "#Listas \n",
    "mi_lista = [1,2,3,'cuatro',5.05,'hola']\n",
    "print(mi_lista)"
   ]
  },
  {
   "cell_type": "code",
   "execution_count": 35,
   "metadata": {},
   "outputs": [
    {
     "name": "stdout",
     "output_type": "stream",
     "text": [
      "hola\n"
     ]
    }
   ],
   "source": [
    "print(mi_lista[-1])"
   ]
  },
  {
   "cell_type": "code",
   "execution_count": 36,
   "metadata": {},
   "outputs": [
    {
     "name": "stdout",
     "output_type": "stream",
     "text": [
      "6\n"
     ]
    }
   ],
   "source": [
    "#Cantidad de elementos que tiene mi lista\n",
    "print(len(mi_lista))"
   ]
  },
  {
   "cell_type": "code",
   "execution_count": 37,
   "metadata": {},
   "outputs": [
    {
     "name": "stdout",
     "output_type": "stream",
     "text": [
      "(1, 'dos', 3, 'cuatroo')\n"
     ]
    }
   ],
   "source": [
    "#Tupla\n",
    "mi_tupla = (1, 'dos', 3, 'cuatroo')\n",
    "print (mi_tupla)"
   ]
  },
  {
   "cell_type": "code",
   "execution_count": 38,
   "metadata": {},
   "outputs": [
    {
     "name": "stdout",
     "output_type": "stream",
     "text": [
      "<class 'tuple'>\n"
     ]
    }
   ],
   "source": [
    "print(type(mi_tupla))"
   ]
  },
  {
   "cell_type": "code",
   "execution_count": 39,
   "metadata": {},
   "outputs": [
    {
     "name": "stdout",
     "output_type": "stream",
     "text": [
      "5.05\n"
     ]
    }
   ],
   "source": [
    "print(mi_lista[-2])"
   ]
  },
  {
   "cell_type": "code",
   "execution_count": 40,
   "metadata": {},
   "outputs": [
    {
     "name": "stdout",
     "output_type": "stream",
     "text": [
      "[2, 3]\n"
     ]
    }
   ],
   "source": [
    "print(mi_lista[1:3])"
   ]
  },
  {
   "cell_type": "code",
   "execution_count": 41,
   "metadata": {},
   "outputs": [
    {
     "name": "stdout",
     "output_type": "stream",
     "text": [
      "('dos', 3)\n"
     ]
    }
   ],
   "source": [
    "print(mi_tupla[1:3])"
   ]
  },
  {
   "cell_type": "markdown",
   "metadata": {},
   "source": [
    "Estructuras de control\n",
    "\n",
    "**En este apartado vamos a aprender cómo es la sintaxis para ejecutar distintas estrcuturas de control**\n",
    "* FOR:\n"
   ]
  },
  {
   "cell_type": "code",
   "execution_count": 42,
   "metadata": {},
   "outputs": [
    {
     "data": {
      "text/plain": [
       "range"
      ]
     },
     "execution_count": 42,
     "metadata": {},
     "output_type": "execute_result"
    }
   ],
   "source": [
    "# FOR\n",
    "rango   = range(1,10)  \n",
    "type(rango)"
   ]
  },
  {
   "cell_type": "code",
   "execution_count": 43,
   "metadata": {},
   "outputs": [
    {
     "name": "stdout",
     "output_type": "stream",
     "text": [
      "Primer elemento:  1\n",
      "Último elemento:  9\n"
     ]
    }
   ],
   "source": [
    "#Exploremos qué elementos tienen\n",
    "print('Primer elemento: ', rango[0])\n",
    "print('Último elemento: ', rango[-1])"
   ]
  },
  {
   "cell_type": "code",
   "execution_count": 46,
   "metadata": {},
   "outputs": [
    {
     "name": "stdout",
     "output_type": "stream",
     "text": [
      "2 2\n",
      "3 6\n",
      "4 12\n",
      "5 20\n",
      "6 30\n",
      "7 42\n",
      "8 56\n",
      "9 72\n",
      "10 90\n"
     ]
    }
   ],
   "source": [
    "# Programemos el bucle\n",
    "for i in rango: \n",
    "    a = i + 1\n",
    "    b= a * i\n",
    "    print (a,b)"
   ]
  },
  {
   "cell_type": "code",
   "execution_count": 54,
   "metadata": {},
   "outputs": [
    {
     "name": "stdout",
     "output_type": "stream",
     "text": [
      "4\n",
      "4\n",
      "4\n",
      "4\n",
      "4\n",
      "4\n",
      "4\n",
      "4\n",
      "4\n"
     ]
    }
   ],
   "source": [
    "# Programemos un bucle sin sentido\n",
    "for i in rango: \n",
    "    a = 2 + 2\n",
    "    print (a)"
   ]
  },
  {
   "cell_type": "code",
   "execution_count": 51,
   "metadata": {},
   "outputs": [
    {
     "name": "stdout",
     "output_type": "stream",
     "text": [
      "1\n",
      "2\n",
      "3\n",
      "cuatro\n",
      "5.05\n",
      "hola\n"
     ]
    }
   ],
   "source": [
    "# R<ecorrer una lista }\n",
    "for i in mi_lista:\n",
    "    print(i)"
   ]
  },
  {
   "cell_type": "code",
   "execution_count": 53,
   "metadata": {},
   "outputs": [
    {
     "name": "stdout",
     "output_type": "stream",
     "text": [
      "1\n",
      "2\n",
      "3\n",
      "4\n",
      "5\n",
      "6\n",
      "7\n",
      "8\n",
      "9\n",
      "10\n"
     ]
    }
   ],
   "source": [
    "# while\n",
    "s = 1\n",
    "while s<= 10:\n",
    "    print(s)\n",
    "    s = s+1"
   ]
  },
  {
   "cell_type": "code",
   "execution_count": 55,
   "metadata": {},
   "outputs": [
    {
     "name": "stdout",
     "output_type": "stream",
     "text": [
      "Es mayor igual a 9\n"
     ]
    }
   ],
   "source": [
    "# IF\n",
    "prueba = 10 \n",
    "if prueba < 5: \n",
    "    print('Es menor a 5')\n",
    "elif prueba < 9:\n",
    "    print('Es menor a 9')\n",
    "else :\n",
    "    print('Es mayor igual a 9')"
   ]
  },
  {
   "cell_type": "code",
   "execution_count": 56,
   "metadata": {},
   "outputs": [
    {
     "name": "stdout",
     "output_type": "stream",
     "text": [
      "Primer grupo 1\n",
      "Primer grupo 2\n",
      "Primer grupo 3\n",
      "Primer grupo 4\n",
      "otra cosa 10\n",
      "otra cosa 12\n",
      "final 49\n",
      "final 64\n",
      "final 81\n"
     ]
    }
   ],
   "source": [
    "# For + If\n",
    "for i in rango :\n",
    "    if i <= 4:\n",
    "        print('Primer grupo', i)\n",
    "    elif i <= 6:\n",
    "        print('otra cosa', i*2)\n",
    "    else:\n",
    "        print('final', i**2)"
   ]
  },
  {
   "cell_type": "markdown",
   "metadata": {},
   "source": [
    "# FUNCIONES\n",
    "## Vamos a armar nuestras primeras funciones"
   ]
  },
  {
   "cell_type": "code",
   "execution_count": 57,
   "metadata": {},
   "outputs": [],
   "source": [
    "def mi_funcion(argumento_1,argumento_2):\n",
    "    resultado_1 = argumento_1 * 2\n",
    "    resultado_2 = argumento_2 / 3\n",
    "    resultado_final = resultado_1 - resultado_2\n",
    "    return resultado_final"
   ]
  },
  {
   "cell_type": "code",
   "execution_count": 58,
   "metadata": {},
   "outputs": [
    {
     "data": {
      "text/plain": [
       "18.666666666666668"
      ]
     },
     "execution_count": 58,
     "metadata": {},
     "output_type": "execute_result"
    }
   ],
   "source": [
    "mi_funcion(argumento_1=10, argumento_2=4)"
   ]
  },
  {
   "cell_type": "code",
   "execution_count": 2,
   "metadata": {},
   "outputs": [],
   "source": [
    "def funcion_clasificadora(x):\n",
    "    if x <= 4:\n",
    "       resultado = 'Primer grupo ' + str(x)\n",
    "    elif x <= 6:\n",
    "        resultado = 'otra cosa ' + str(x*2)\n",
    "    else:\n",
    "        resultado = 'final ' + str(x**2)\n",
    "    return resultado\n"
   ]
  },
  {
   "cell_type": "code",
   "execution_count": 3,
   "metadata": {},
   "outputs": [
    {
     "data": {
      "text/plain": [
       "'otra cosa 10'"
      ]
     },
     "execution_count": 3,
     "metadata": {},
     "output_type": "execute_result"
    }
   ],
   "source": [
    "funcion_clasificadora(5)"
   ]
  }
 ],
 "metadata": {
  "kernelspec": {
   "display_name": "Python 3",
   "language": "python",
   "name": "python3"
  },
  "language_info": {
   "codemirror_mode": {
    "name": "ipython",
    "version": 3
   },
   "file_extension": ".py",
   "mimetype": "text/x-python",
   "name": "python",
   "nbconvert_exporter": "python",
   "pygments_lexer": "ipython3",
   "version": "3.9.13"
  }
 },
 "nbformat": 4,
 "nbformat_minor": 2
}
